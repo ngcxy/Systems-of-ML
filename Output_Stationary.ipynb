{
  "nbformat": 4,
  "nbformat_minor": 0,
  "metadata": {
    "colab": {
      "provenance": [],
      "include_colab_link": true
    },
    "kernelspec": {
      "name": "python3",
      "display_name": "Python 3"
    },
    "language_info": {
      "name": "python"
    }
  },
  "cells": [
    {
      "cell_type": "markdown",
      "metadata": {
        "id": "view-in-github",
        "colab_type": "text"
      },
      "source": [
        "<a href=\"https://colab.research.google.com/github/ngcxy/Systems-of-ML/blob/main/Output_Stationary.ipynb\" target=\"_parent\"><img src=\"https://colab.research.google.com/assets/colab-badge.svg\" alt=\"Open In Colab\"/></a>"
      ]
    },
    {
      "cell_type": "markdown",
      "source": [
        "## Global Variable Settings\n",
        "\n",
        "We first initialize multiprocessing tools, generate random activations and weights, and print these values."
      ],
      "metadata": {
        "id": "zobEqzxw8uIm"
      }
    },
    {
      "cell_type": "code",
      "source": [
        "from multiprocessing import Process, Queue, Array\n",
        "import random\n",
        "import time\n",
        "\n",
        "num_activations = 64\n",
        "num_weights = 4\n",
        "\n",
        "# Create activations randomly.\n",
        "activations = [random.uniform(0, 1) for _ in range(num_activations)]\n",
        "\n",
        "# The fixed weights. Each PE will be hardcoded to work with a single entry in this list.\n",
        "weights = [random.uniform(0, 1) for _ in range(num_weights)]\n",
        "print(activations)\n",
        "print(weights)"
      ],
      "metadata": {
        "colab": {
          "base_uri": "https://localhost:8080/"
        },
        "id": "BnuD2r3W80WW",
        "outputId": "01a6f5a6-682f-4712-9609-1527d7a3c715"
      },
      "execution_count": 17,
      "outputs": [
        {
          "output_type": "stream",
          "name": "stdout",
          "text": [
            "[0.9741516625743291, 0.5086190822911398, 0.3177596484238183, 0.8524613491353215, 0.6193476347747476, 0.7656951004356596, 0.8587422000745983, 0.09721144140558635, 0.17787006277453477, 0.15212671371418773, 0.28241154490528175, 0.5214746700971236, 0.7500002024776957, 0.017848327027516375, 0.8155798921650892, 0.5717607692015005, 0.7266148324424019, 0.6886893544072334, 0.3087998201352089, 0.04927760744620879, 0.8810986252156062, 0.05295281496023474, 0.6507850945912833, 0.11809216087756302, 0.10224998965926901, 0.2669552014408276, 0.7070298616090833, 0.7198575419857357, 0.7980758597871257, 0.9125933494164008, 0.5082185443840702, 0.19437851162805286, 0.7785489133011408, 0.875713882607681, 0.5750779318790126, 0.031374795731412886, 0.5518112226980404, 0.3357508071013099, 0.009132224843999448, 0.8035964196827341, 0.4476354058618275, 0.11536830516971652, 0.5898339244799754, 0.9249963803629728, 0.958374255533157, 0.5996624666180775, 0.39587196537350744, 0.4300080887670935, 0.34435715252895893, 0.7008329937964486, 0.7384649157414507, 0.8910158621679573, 0.46525932179442864, 0.6649051868873368, 0.6154164898880832, 0.039237232641884945, 0.659201325685147, 0.050226661042177656, 0.7267446241473517, 0.8481632412076465, 0.4659425224410979, 0.9048185040739619, 0.9127262650613105, 0.24815776982992332]\n",
            "[0.7339519157895393, 0.264497972248406, 0.3279852057296665, 0.5586712005740773]\n"
          ]
        }
      ]
    },
    {
      "cell_type": "markdown",
      "source": [
        "## Convolution Results\n",
        "\n",
        "1-D convolution results for validation. The outputs must exactly match these values."
      ],
      "metadata": {
        "id": "vRvGCtw786Dy"
      }
    },
    {
      "cell_type": "code",
      "source": [
        "ground_truth = [0 for _ in range(num_activations-num_weights+1)]\n",
        "for i in range(num_activations-num_weights+1):\n",
        "  for k in range(num_weights):\n",
        "      ground_truth[i] += weights[k]*activations[i+k]\n",
        "print(ground_truth)"
      ],
      "metadata": {
        "colab": {
          "base_uri": "https://localhost:8080/"
        },
        "id": "8ORgXlMD84Q2",
        "outputId": "a885a88c-020c-4d83-cc87-6ac7f42f2f2f"
      },
      "execution_count": 18,
      "outputs": [
        {
          "output_type": "stream",
          "name": "stdout",
          "text": [
            "[1.4299752639541456, 1.0829551301902267, 1.0896032634315613, 1.5203730347910593, 0.9930601543482265, 0.9203737526044068, 0.7993152749675463, 0.3260653029265934, 0.5547449693055144, 0.7763904644439119, 0.6011658042395506, 1.0426058506267435, 1.142109345849558, 0.8222868958099587, 1.3728958121531025, 1.0102305475564564, 0.8442690387116951, 1.0955485502969675, 0.5582485733975552, 0.6501588241307801, 0.9401125085895283, 0.30685276403751394, 0.6915567708157903, 0.5962734609351557, 0.7797146971024926, 1.0649048689828575, 1.4809234788258885, 1.3226744504509993, 1.102410236936651, 1.3029285438149278, 1.1690093481202453, 0.9570897664359912, 1.0091872612697106, 1.1134103357978664, 0.7989383435791139, 0.28420374946065546, 0.945749722917869, 0.7624891496988013, 0.4305229776726728, 1.0755621129391228, 1.0692831858976009, 1.0794858896395214, 1.3269161333446544, 1.3502335963603151, 1.2320834105596068, 0.8782494636020226, 0.9087665164854444, 1.0491089638403286, 1.1781009663199202, 1.2618671959823535, 1.3017311818390587, 1.3389174799921608, 0.741112260151729, 1.031930877258848, 0.7063327516796224, 0.6256405494531642, 1.2093127871882565, 0.7675800970955354, 1.4160513606714398, 1.5524328496605986, 1.0193013775975261]\n"
          ]
        }
      ]
    },
    {
      "cell_type": "markdown",
      "source": [
        "## Validation Function\n",
        "The `mse_error` function computes the Mean Square Error (MSE) between two sequences."
      ],
      "metadata": {
        "id": "FUjZRqu59gF6"
      }
    },
    {
      "cell_type": "code",
      "source": [
        "def mse_error(ground_truth, output):\n",
        "    error = 0.0\n",
        "    for gt, out in zip(ground_truth, output):\n",
        "        error += (gt-out) ** 2\n",
        "    print(f\"The expected results : {ground_truth}\")\n",
        "    print(f\"The simulated results: {output[:]}\")\n",
        "    print(f\"The Mean Square Error: {error:.4f}\")"
      ],
      "metadata": {
        "id": "m1W0TsUZ8_3O"
      },
      "execution_count": 19,
      "outputs": []
    },
    {
      "cell_type": "markdown",
      "source": [
        "## Output stationary data flow\n",
        "\n",
        "We implement three data flow approaches to achieve the output stationary."
      ],
      "metadata": {
        "id": "6_i2U98o-JoH"
      }
    },
    {
      "cell_type": "markdown",
      "source": [
        "### OS type 1\n",
        "\n",
        "The weights are broadcasted while activations are passed through the PEs sequentially.\n",
        "\n",
        "Notice that the PEs only retrieve weights when the required activations are passed in. Before that, the weights will be stored in the buffer of the queues.\n",
        "\n",
        "For each OS_worker, it gets the activation from the `activate_queue` in the \"left\". If the activation is within its multiplication range, it will get the weight from `weight_queue`, multiply them together, and accumulate this partial sum into the `partial_output_register`. Then, it passes the activation to the next PE through `output_queue`."
      ],
      "metadata": {
        "id": "0TKIrsx298Vu"
      }
    },
    {
      "cell_type": "code",
      "source": [
        "def OS_worker1(id, partial_output_register, activate_queue, weight_queue, output_queue):\n",
        "    ## The PE function for the Output Stationary Scheme 1\n",
        "\n",
        "    while True:\n",
        "        # Get input activation\n",
        "        data = activate_queue.get()\n",
        "\n",
        "        # Check if the activation is a termination signal\n",
        "        if data is None:\n",
        "            output_queue.put(data)\n",
        "            break\n",
        "\n",
        "        activation, time_step = data\n",
        "        # Each PE takes input within certain range of time step\n",
        "        if time_step<id or time_step>id+num_weights-1:\n",
        "            output_queue.put(data)\n",
        "            continue\n",
        "\n",
        "        # Get kernel weights\n",
        "        weight = weight_queue.get()\n",
        "\n",
        "        # Update the RegFile in the PE\n",
        "        partial_output_register[id] += weight*activation\n",
        "\n",
        "        # Pass the input data into the output_queue\n",
        "        output_queue.put(data)\n",
        "\n",
        "    print(f\"Worker ID {id}: is Done!\")"
      ],
      "metadata": {
        "id": "6MFcMgI198AM"
      },
      "execution_count": 20,
      "outputs": []
    },
    {
      "cell_type": "code",
      "source": [
        "num_pes = num_activations - num_weights + 1\n",
        "\n",
        "activate_queues = [Queue() for _ in range(num_pes+1)]\n",
        "weight_queues = [Queue() for _ in range(num_pes)]\n",
        "\n",
        "processes = []\n",
        "\n",
        "# Create a global variable for the PE RegFiles\n",
        "PE_RegFiles = Array('d', [0.0 for _ in range(num_pes)])\n",
        "\n",
        "start_time = time.time()\n",
        "\n",
        "# Create and start a process for each PE.\n",
        "for i in range(num_pes):\n",
        "    p = Process(target=OS_worker1, args=(\n",
        "        i, PE_RegFiles, activate_queues[i], weight_queues[i], activate_queues[i+1]))\n",
        "    processes.append(p)\n",
        "    p.start()\n",
        "\n",
        "# Broadcasting the weights to all PEs.\n",
        "# The weights will be stored in the queues until the PE fetching valid activations\n",
        "for i in range(num_weights):\n",
        "    for w in weight_queues:\n",
        "        w.put(weights[i])\n",
        "\n",
        "print(\"Done broadasting Weights!\")\n",
        "\n",
        "# TODO: Pass the activation data input the leftmost PE\n",
        "for i, activation in enumerate(activations):\n",
        "    activate_queues[0].put((activation, i))\n",
        "\n",
        "# Pass the termination signal in the end of the input sequence\n",
        "activate_queues[0].put(None)\n",
        "print(\"Done putting None!\")\n",
        "\n",
        "# Make sure to join the PE processes to clean up properly\n",
        "for i, p in enumerate(processes):\n",
        "    p.join()\n",
        "\n",
        "end_time = time.time()\n",
        "\n",
        "OS_output = PE_RegFiles\n",
        "\n",
        "print(\"All Done!\")\n",
        "mse_error(ground_truth, OS_output)\n",
        "\n",
        "runtime = end_time - start_time\n",
        "print(\"Runtime:\", runtime, \"seconds\")"
      ],
      "metadata": {
        "colab": {
          "base_uri": "https://localhost:8080/"
        },
        "id": "bGI3gyBX9orB",
        "outputId": "c5a49098-4638-4491-91fd-f26585c4493d"
      },
      "execution_count": 21,
      "outputs": [
        {
          "output_type": "stream",
          "name": "stdout",
          "text": [
            "Worker ID 0: is Done!Worker ID 1: is Done!\n",
            "\n",
            "Worker ID 2: is Done!\n",
            "Worker ID 3: is Done!Worker ID 4: is Done!\n",
            "Worker ID 5: is Done!\n",
            "Worker ID 6: is Done!\n",
            "Worker ID 7: is Done!\n",
            "\n",
            "\n",
            "Worker ID 8: is Done!Worker ID 9: is Done!Worker ID 10: is Done!\n",
            "Worker ID 11: is Done!Worker ID 12: is Done!\n",
            "Worker ID 13: is Done!Done broadasting Weights!\n",
            "Done putting None!\n",
            "Worker ID 14: is Done!\n",
            "\n",
            "\n",
            "\n",
            "Worker ID 15: is Done!Worker ID 16: is Done!Worker ID 17: is Done!\n",
            "\n",
            "\n",
            "Worker ID 18: is Done!Worker ID 19: is Done!\n",
            "Worker ID 20: is Done!\n",
            "\n",
            "Worker ID 21: is Done!Worker ID 24: is Done!Worker ID 23: is Done!Worker ID 22: is Done!Worker ID 25: is Done!\n",
            "Worker ID 26: is Done!\n",
            "\n",
            "\n",
            "\n",
            "Worker ID 27: is Done!\n",
            "Worker ID 28: is Done!\n",
            "Worker ID 29: is Done!\n",
            "Worker ID 30: is Done!\n",
            "\n",
            "Worker ID 31: is Done!\n",
            "Worker ID 32: is Done!\n",
            "Worker ID 33: is Done!Worker ID 34: is Done!Worker ID 35: is Done!\n",
            "\n",
            "\n",
            "Worker ID 36: is Done!Worker ID 37: is Done!\n",
            "\n",
            "Worker ID 38: is Done!\n",
            "Worker ID 39: is Done!Worker ID 40: is Done!\n",
            "Worker ID 41: is Done!\n",
            "\n",
            "Worker ID 42: is Done!\n",
            "Worker ID 43: is Done!Worker ID 44: is Done!Worker ID 45: is Done!\n",
            "\n",
            "\n",
            "Worker ID 46: is Done!\n",
            "Worker ID 47: is Done!Worker ID 48: is Done!Worker ID 49: is Done!\n",
            "\n",
            "Worker ID 50: is Done!\n",
            "\n",
            "Worker ID 51: is Done!Worker ID 52: is Done!\n",
            "\n",
            "Worker ID 53: is Done!\n",
            "Worker ID 54: is Done!\n",
            "Worker ID 55: is Done!Worker ID 56: is Done!\n",
            "Worker ID 57: is Done!\n",
            "\n",
            "Worker ID 58: is Done!\n",
            "Worker ID 59: is Done!Worker ID 60: is Done!\n",
            "\n",
            "All Done!\n",
            "The expected results : [1.4299752639541456, 1.0829551301902267, 1.0896032634315613, 1.5203730347910593, 0.9930601543482265, 0.9203737526044068, 0.7993152749675463, 0.3260653029265934, 0.5547449693055144, 0.7763904644439119, 0.6011658042395506, 1.0426058506267435, 1.142109345849558, 0.8222868958099587, 1.3728958121531025, 1.0102305475564564, 0.8442690387116951, 1.0955485502969675, 0.5582485733975552, 0.6501588241307801, 0.9401125085895283, 0.30685276403751394, 0.6915567708157903, 0.5962734609351557, 0.7797146971024926, 1.0649048689828575, 1.4809234788258885, 1.3226744504509993, 1.102410236936651, 1.3029285438149278, 1.1690093481202453, 0.9570897664359912, 1.0091872612697106, 1.1134103357978664, 0.7989383435791139, 0.28420374946065546, 0.945749722917869, 0.7624891496988013, 0.4305229776726728, 1.0755621129391228, 1.0692831858976009, 1.0794858896395214, 1.3269161333446544, 1.3502335963603151, 1.2320834105596068, 0.8782494636020226, 0.9087665164854444, 1.0491089638403286, 1.1781009663199202, 1.2618671959823535, 1.3017311818390587, 1.3389174799921608, 0.741112260151729, 1.031930877258848, 0.7063327516796224, 0.6256405494531642, 1.2093127871882565, 0.7675800970955354, 1.4160513606714398, 1.5524328496605986, 1.0193013775975261]\n",
            "The simulated results: [1.4299752639541456, 1.0829551301902267, 1.0896032634315613, 1.5203730347910593, 0.9930601543482265, 0.9203737526044068, 0.7993152749675463, 0.3260653029265934, 0.5547449693055144, 0.7763904644439119, 0.6011658042395506, 1.0426058506267435, 1.142109345849558, 0.8222868958099587, 1.3728958121531025, 1.0102305475564564, 0.8442690387116951, 1.0955485502969675, 0.5582485733975552, 0.6501588241307801, 0.9401125085895283, 0.30685276403751394, 0.6915567708157903, 0.5962734609351557, 0.7797146971024926, 1.0649048689828575, 1.4809234788258885, 1.3226744504509993, 1.102410236936651, 1.3029285438149278, 1.1690093481202453, 0.9570897664359912, 1.0091872612697106, 1.1134103357978664, 0.7989383435791139, 0.28420374946065546, 0.945749722917869, 0.7624891496988013, 0.4305229776726728, 1.0755621129391228, 1.0692831858976009, 1.0794858896395214, 1.3269161333446544, 1.3502335963603151, 1.2320834105596068, 0.8782494636020226, 0.9087665164854444, 1.0491089638403286, 1.1781009663199202, 1.2618671959823535, 1.3017311818390587, 1.3389174799921608, 0.741112260151729, 1.031930877258848, 0.7063327516796224, 0.6256405494531642, 1.2093127871882565, 0.7675800970955354, 1.4160513606714398, 1.5524328496605986, 1.0193013775975261]\n",
            "The Mean Square Error: 0.0000\n",
            "Runtime: 1.7437865734100342 seconds\n"
          ]
        }
      ]
    },
    {
      "cell_type": "markdown",
      "source": [
        "### OS type 2\n",
        "\n",
        "The activations are broadcasted while weights are passed through the PEs sequentially.\n",
        "\n",
        "For each OS_worker, it waits for the weights coming from the `weight_queue` in the left. During this time, it just gets the activation, does nothing, and continues. As soon as it receives a weight, it will get the current activation from `activation_queue`, multiply them together, and accumulate this partial sum into the `partial_output_register`. Then, it passes the weight to the next PE through `output_queue`."
      ],
      "metadata": {
        "id": "K4_AzKiCtBDG"
      }
    },
    {
      "cell_type": "code",
      "source": [
        "def OS_worker2(id, partial_output_register, activate_queue, weight_queue, output_queue):\n",
        "    ## The PE function for the Output Stationary Scheme 2\n",
        "\n",
        "    while True:\n",
        "\n",
        "        # Get input activation\n",
        "        activation, time_step = activate_queue.get()\n",
        "\n",
        "        # only process when there's weight com\n",
        "        if time_step  < id:\n",
        "            continue\n",
        "\n",
        "        # Get kernel weight\n",
        "        weight = weight_queue.get()\n",
        "\n",
        "        # Check if the activation is a termination signal\n",
        "        if weight is None:\n",
        "            output_queue.put(weight)\n",
        "            break\n",
        "\n",
        "        # Update the RegFile in the PE\n",
        "        partial_output_register[id] += weight*activation\n",
        "\n",
        "        # Pass the input data into the output_queue\n",
        "        output_queue.put(weight)\n",
        "\n",
        "    print(f\"Worker ID {id}: is Done!\")"
      ],
      "metadata": {
        "id": "u9lANisz_wqA"
      },
      "execution_count": 8,
      "outputs": []
    },
    {
      "cell_type": "code",
      "source": [
        "num_pes = num_activations - num_weights + 1\n",
        "\n",
        "activate_queues = [Queue() for _ in range(num_pes)]\n",
        "weight_queues = [Queue() for _ in range(num_pes+1)]\n",
        "\n",
        "# List of processes: [PE[0]...PE[num_pes-1]]\n",
        "processes = []\n",
        "\n",
        "# Create a global variable for the PE RegFiles\n",
        "PE_RegFiles = Array('d', [0.0 for _ in range(num_pes)])\n",
        "\n",
        "start_time = time.time()\n",
        "\n",
        "# Create and start a process for each PE.\n",
        "for i in range(num_pes):\n",
        "    p = Process(target=OS_worker2, args=(\n",
        "        i, PE_RegFiles, activate_queues[i], weight_queues[i], weight_queues[i+1]))\n",
        "    processes.append(p)\n",
        "    p.start()\n",
        "\n",
        "# Broadcasting the activations to all PEs.\n",
        "for i,activation in enumerate(activations):\n",
        "    for a in activate_queues:\n",
        "        a.put((activation,i))\n",
        "# Broadcasting one more redundant signal for the last PE to terminate\n",
        "for a in activate_queues:\n",
        "    a.put((0,num_pes))\n",
        "\n",
        "\n",
        "print(\"Done broadasting Activations!\")\n",
        "\n",
        "# TODO: Pass the activation data input the leftmost PE\n",
        "for weight in weights:\n",
        "    weight_queues[0].put(weight)\n",
        "\n",
        "# Pass the termination signal in the end of the input sequence\n",
        "weight_queues[0].put(None)\n",
        "print(\"Done passing None!\")\n",
        "\n",
        "# Make sure to join the PE processes to clean up properly\n",
        "for i, p in enumerate(processes):\n",
        "    p.join()\n",
        "\n",
        "end_time = time.time()\n",
        "\n",
        "OS_output = PE_RegFiles\n",
        "\n",
        "print(\"All Done!\")\n",
        "mse_error(ground_truth, OS_output)\n",
        "\n",
        "runtime = end_time - start_time\n",
        "print(\"Runtime:\", runtime, \"seconds\")"
      ],
      "metadata": {
        "colab": {
          "base_uri": "https://localhost:8080/"
        },
        "id": "-4wFMLvshj6g",
        "outputId": "715c643d-a011-4c1e-c209-ffbf255fc4c1"
      },
      "execution_count": 22,
      "outputs": [
        {
          "output_type": "stream",
          "name": "stdout",
          "text": [
            "Worker ID 0: is Done!\n",
            "Worker ID 3: is Done!Worker ID 2: is Done!Worker ID 1: is Done!Worker ID 4: is Done!\n",
            "Worker ID 5: is Done!\n",
            "Worker ID 8: is Done!Worker ID 7: is Done!Worker ID 9: is Done!\n",
            "\n",
            "\n",
            "\n",
            "Worker ID 6: is Done!\n",
            "\n",
            "\n",
            "Worker ID 10: is Done!Done broadasting Activations!\n",
            "Done passing None!\n",
            "\n",
            "Worker ID 12: is Done!Worker ID 11: is Done!\n",
            "\n",
            "Worker ID 13: is Done!Worker ID 15: is Done!Worker ID 14: is Done!\n",
            "\n",
            "\n",
            "Worker ID 16: is Done!Worker ID 17: is Done!\n",
            "\n",
            "Worker ID 18: is Done!Worker ID 19: is Done!Worker ID 20: is Done!\n",
            "\n",
            "\n",
            "Worker ID 21: is Done!\n",
            "Worker ID 22: is Done!\n",
            "Worker ID 23: is Done!\n",
            "Worker ID 24: is Done!\n",
            "Worker ID 25: is Done!\n",
            "Worker ID 26: is Done!Worker ID 27: is Done!\n",
            "\n",
            "Worker ID 28: is Done!Worker ID 30: is Done!\n",
            "Worker ID 29: is Done!\n",
            "\n",
            "Worker ID 32: is Done!Worker ID 31: is Done!Worker ID 33: is Done!\n",
            "\n",
            "Worker ID 34: is Done!\n",
            "Worker ID 36: is Done!Worker ID 35: is Done!\n",
            "\n",
            "\n",
            "Worker ID 37: is Done!Worker ID 38: is Done!\n",
            "\n",
            "Worker ID 39: is Done!\n",
            "Worker ID 40: is Done!Worker ID 41: is Done!\n",
            "Worker ID 42: is Done!\n",
            "Worker ID 43: is Done!\n",
            "Worker ID 45: is Done!Worker ID 44: is Done!\n",
            "\n",
            "Worker ID 47: is Done!\n",
            "Worker ID 46: is Done!\n",
            "Worker ID 48: is Done!\n",
            "Worker ID 49: is Done!\n",
            "Worker ID 50: is Done!\n",
            "Worker ID 51: is Done!\n",
            "Worker ID 52: is Done!\n",
            "Worker ID 53: is Done!Worker ID 54: is Done!\n",
            "\n",
            "Worker ID 55: is Done!\n",
            "Worker ID 56: is Done!\n",
            "\n",
            "Worker ID 57: is Done!\n",
            "Worker ID 58: is Done!\n",
            "Worker ID 60: is Done!\n",
            "Worker ID 59: is Done!\n",
            "All Done!\n",
            "The expected results : [1.4299752639541456, 1.0829551301902267, 1.0896032634315613, 1.5203730347910593, 0.9930601543482265, 0.9203737526044068, 0.7993152749675463, 0.3260653029265934, 0.5547449693055144, 0.7763904644439119, 0.6011658042395506, 1.0426058506267435, 1.142109345849558, 0.8222868958099587, 1.3728958121531025, 1.0102305475564564, 0.8442690387116951, 1.0955485502969675, 0.5582485733975552, 0.6501588241307801, 0.9401125085895283, 0.30685276403751394, 0.6915567708157903, 0.5962734609351557, 0.7797146971024926, 1.0649048689828575, 1.4809234788258885, 1.3226744504509993, 1.102410236936651, 1.3029285438149278, 1.1690093481202453, 0.9570897664359912, 1.0091872612697106, 1.1134103357978664, 0.7989383435791139, 0.28420374946065546, 0.945749722917869, 0.7624891496988013, 0.4305229776726728, 1.0755621129391228, 1.0692831858976009, 1.0794858896395214, 1.3269161333446544, 1.3502335963603151, 1.2320834105596068, 0.8782494636020226, 0.9087665164854444, 1.0491089638403286, 1.1781009663199202, 1.2618671959823535, 1.3017311818390587, 1.3389174799921608, 0.741112260151729, 1.031930877258848, 0.7063327516796224, 0.6256405494531642, 1.2093127871882565, 0.7675800970955354, 1.4160513606714398, 1.5524328496605986, 1.0193013775975261]\n",
            "The simulated results: [1.4299752639541456, 1.0829551301902267, 1.0896032634315613, 1.5203730347910593, 0.9930601543482265, 0.9203737526044068, 0.7993152749675463, 0.3260653029265934, 0.5547449693055144, 0.7763904644439119, 0.6011658042395506, 1.0426058506267435, 1.142109345849558, 0.8222868958099587, 1.3728958121531025, 1.0102305475564564, 0.8442690387116951, 1.0955485502969675, 0.5582485733975552, 0.6501588241307801, 0.9401125085895283, 0.30685276403751394, 0.6915567708157903, 0.5962734609351557, 0.7797146971024926, 1.0649048689828575, 1.4809234788258885, 1.3226744504509993, 1.102410236936651, 1.3029285438149278, 1.1690093481202453, 0.9570897664359912, 1.0091872612697106, 1.1134103357978664, 0.7989383435791139, 0.28420374946065546, 0.945749722917869, 0.7624891496988013, 0.4305229776726728, 1.0755621129391228, 1.0692831858976009, 1.0794858896395214, 1.3269161333446544, 1.3502335963603151, 1.2320834105596068, 0.8782494636020226, 0.9087665164854444, 1.0491089638403286, 1.1781009663199202, 1.2618671959823535, 1.3017311818390587, 1.3389174799921608, 0.741112260151729, 1.031930877258848, 0.7063327516796224, 0.6256405494531642, 1.2093127871882565, 0.7675800970955354, 1.4160513606714398, 1.5524328496605986, 1.0193013775975261]\n",
            "The Mean Square Error: 0.0000\n",
            "Runtime: 1.7217888832092285 seconds\n"
          ]
        }
      ]
    },
    {
      "cell_type": "markdown",
      "source": [
        "### OS type 3\n",
        "\n",
        "The weights are broadcasted while activations are passed through the PEs sequentially.\n",
        "\n",
        "Notice that all of the PEs will not start retrieving the broadcasted weight until a certain `time_step` (when the first activation arrives at the last PE). Further, the IDs of the PEs in this approach are arranged in a reversed order.\n",
        "\n",
        "\n",
        "For each OS_worker, it gets the activation from the `activate_queue` in the \"left\" and keeps passing the activation to the next PE through the `output_queue`. As soon as the last PE receives an activation, it'll start retrieving the broadcasted weight in `weight_queue` and accumulate the multiplication result into the `partial_output_register`."
      ],
      "metadata": {
        "id": "nrlXoKqGuq5b"
      }
    },
    {
      "cell_type": "code",
      "source": [
        "def OS_worker3(id, partial_output_register, activate_queue, weight_queue, output_queue):\n",
        "    ## The PE function for the Output Stationary Scheme 1\n",
        "\n",
        "    while True:\n",
        "        # Get input activation\n",
        "        data = activate_queue.get()\n",
        "\n",
        "        # Check if the activation is a termination signal\n",
        "\n",
        "        activation, time_step = data\n",
        "        # Each PE takes input within certain range of time step\n",
        "        if time_step<id:\n",
        "            output_queue.put(data)\n",
        "            continue\n",
        "\n",
        "        # Get kernel weights\n",
        "        weight = weight_queue.get()\n",
        "\n",
        "        if weight is None:\n",
        "            break;\n",
        "\n",
        "        # Update the RegFile in the PE\n",
        "        partial_output_register[id] += weight*activation\n",
        "\n",
        "        # Pass the input data into the output_queue\n",
        "        output_queue.put(data)\n",
        "\n",
        "    print(f\"Worker ID {id}: is Done!\")"
      ],
      "metadata": {
        "id": "vz5BIRYHMKG3"
      },
      "execution_count": 10,
      "outputs": []
    },
    {
      "cell_type": "code",
      "source": [
        "num_pes = num_activations - num_weights + 1\n",
        "\n",
        "activate_queues = [Queue() for _ in range(num_pes+1)]\n",
        "weight_queues = [Queue() for _ in range(num_pes)]\n",
        "\n",
        "processes = []\n",
        "\n",
        "# Create a global variable for the PE RegFiles\n",
        "PE_RegFiles = Array('d', [0.0 for _ in range(num_pes)])\n",
        "\n",
        "start_time = time.time()\n",
        "\n",
        "# Create and start a process for each PE.\n",
        "for i in range(num_pes):\n",
        "    p = Process(target=OS_worker3, args=(\n",
        "        num_pes-1-i, PE_RegFiles, activate_queues[i], weight_queues[i], activate_queues[i+1]))\n",
        "    processes.append(p)\n",
        "    p.start()\n",
        "\n",
        "# Broadcasting the weights to all PEs.\n",
        "# The weights will be stored in the queues until the PE fetching valid activations\n",
        "for i in range(num_weights):\n",
        "    for w in weight_queues:\n",
        "        w.put(weights[i])\n",
        "\n",
        "print(\"Done broadasting Weights!\")\n",
        "\n",
        "# Pass the activation data input the leftmost PE\n",
        "for i, activation in enumerate(activations):\n",
        "    activate_queues[0].put((activation, i))\n",
        "# Pass one more redundant activations for the PEs to receive terminate signal\n",
        "activate_queues[0].put((0, num_pes))\n",
        "\n",
        "# Pass the termination signal in the end of the input sequence\n",
        "for i in range(num_weights):\n",
        "    for w in weight_queues:\n",
        "        w.put(None)\n",
        "print(\"Done broadcasting None!\")\n",
        "\n",
        "# Make sure to join the PE processes to clean up properly\n",
        "for i, p in enumerate(processes):\n",
        "    p.join()\n",
        "\n",
        "end_time = time.time()\n",
        "\n",
        "OS_output = PE_RegFiles\n",
        "\n",
        "print(\"All Done!\")\n",
        "mse_error(ground_truth, OS_output)\n",
        "\n",
        "runtime = end_time - start_time\n",
        "print(\"Runtime:\", runtime, \"seconds\")"
      ],
      "metadata": {
        "colab": {
          "base_uri": "https://localhost:8080/"
        },
        "id": "r9HIVxREUYyy",
        "outputId": "2ec66117-466e-47b7-8d8a-320a1665f786"
      },
      "execution_count": 23,
      "outputs": [
        {
          "output_type": "stream",
          "name": "stdout",
          "text": [
            "Worker ID 60: is Done!Worker ID 59: is Done!Worker ID 58: is Done!\n",
            "Worker ID 55: is Done!Worker ID 54: is Done!\n",
            "\n",
            "Worker ID 52: is Done!Worker ID 53: is Done!Worker ID 57: is Done!Worker ID 56: is Done!\n",
            "\n",
            "\n",
            "\n",
            "Worker ID 51: is Done!\n",
            "\n",
            "\n",
            "Done broadasting Weights!\n",
            "Done broadcasting None!\n",
            "Worker ID 49: is Done!\n",
            "Worker ID 50: is Done!\n",
            "Worker ID 48: is Done!Worker ID 47: is Done!\n",
            "\n",
            "Worker ID 45: is Done!\n",
            "Worker ID 46: is Done!\n",
            "Worker ID 43: is Done!Worker ID 44: is Done!Worker ID 42: is Done!\n",
            "\n",
            "\n",
            "Worker ID 40: is Done!Worker ID 41: is Done!Worker ID 39: is Done!\n",
            "\n",
            "Worker ID 38: is Done!\n",
            "Worker ID 37: is Done!\n",
            "Worker ID 36: is Done!\n",
            "\n",
            "Worker ID 35: is Done!Worker ID 34: is Done!\n",
            "Worker ID 32: is Done!Worker ID 33: is Done!\n",
            "\n",
            "Worker ID 30: is Done!Worker ID 31: is Done!\n",
            "\n",
            "\n",
            "Worker ID 29: is Done!\n",
            "Worker ID 28: is Done!Worker ID 27: is Done!\n",
            "\n",
            "\n",
            "Worker ID 26: is Done!Worker ID 25: is Done!\n",
            "Worker ID 24: is Done!\n",
            "Worker ID 23: is Done!\n",
            "Worker ID 21: is Done!Worker ID 22: is Done!\n",
            "\n",
            "Worker ID 20: is Done!Worker ID 19: is Done!\n",
            "Worker ID 18: is Done!Worker ID 17: is Done!\n",
            "\n",
            "\n",
            "Worker ID 16: is Done!Worker ID 15: is Done!\n",
            "\n",
            "Worker ID 14: is Done!\n",
            "Worker ID 13: is Done!Worker ID 12: is Done!\n",
            "\n",
            "Worker ID 11: is Done!Worker ID 10: is Done!\n",
            "\n",
            "Worker ID 9: is Done!Worker ID 8: is Done!\n",
            "\n",
            "Worker ID 7: is Done!\n",
            "Worker ID 6: is Done!Worker ID 5: is Done!\n",
            "\n",
            "Worker ID 4: is Done!Worker ID 3: is Done!Worker ID 2: is Done!\n",
            "\n",
            "Worker ID 1: is Done!\n",
            "\n",
            "Worker ID 0: is Done!\n",
            "All Done!\n",
            "The expected results : [1.4299752639541456, 1.0829551301902267, 1.0896032634315613, 1.5203730347910593, 0.9930601543482265, 0.9203737526044068, 0.7993152749675463, 0.3260653029265934, 0.5547449693055144, 0.7763904644439119, 0.6011658042395506, 1.0426058506267435, 1.142109345849558, 0.8222868958099587, 1.3728958121531025, 1.0102305475564564, 0.8442690387116951, 1.0955485502969675, 0.5582485733975552, 0.6501588241307801, 0.9401125085895283, 0.30685276403751394, 0.6915567708157903, 0.5962734609351557, 0.7797146971024926, 1.0649048689828575, 1.4809234788258885, 1.3226744504509993, 1.102410236936651, 1.3029285438149278, 1.1690093481202453, 0.9570897664359912, 1.0091872612697106, 1.1134103357978664, 0.7989383435791139, 0.28420374946065546, 0.945749722917869, 0.7624891496988013, 0.4305229776726728, 1.0755621129391228, 1.0692831858976009, 1.0794858896395214, 1.3269161333446544, 1.3502335963603151, 1.2320834105596068, 0.8782494636020226, 0.9087665164854444, 1.0491089638403286, 1.1781009663199202, 1.2618671959823535, 1.3017311818390587, 1.3389174799921608, 0.741112260151729, 1.031930877258848, 0.7063327516796224, 0.6256405494531642, 1.2093127871882565, 0.7675800970955354, 1.4160513606714398, 1.5524328496605986, 1.0193013775975261]\n",
            "The simulated results: [1.4299752639541456, 1.0829551301902267, 1.0896032634315613, 1.5203730347910593, 0.9930601543482265, 0.9203737526044068, 0.7993152749675463, 0.3260653029265934, 0.5547449693055144, 0.7763904644439119, 0.6011658042395506, 1.0426058506267435, 1.142109345849558, 0.8222868958099587, 1.3728958121531025, 1.0102305475564564, 0.8442690387116951, 1.0955485502969675, 0.5582485733975552, 0.6501588241307801, 0.9401125085895283, 0.30685276403751394, 0.6915567708157903, 0.5962734609351557, 0.7797146971024926, 1.0649048689828575, 1.4809234788258885, 1.3226744504509993, 1.102410236936651, 1.3029285438149278, 1.1690093481202453, 0.9570897664359912, 1.0091872612697106, 1.1134103357978664, 0.7989383435791139, 0.28420374946065546, 0.945749722917869, 0.7624891496988013, 0.4305229776726728, 1.0755621129391228, 1.0692831858976009, 1.0794858896395214, 1.3269161333446544, 1.3502335963603151, 1.2320834105596068, 0.8782494636020226, 0.9087665164854444, 1.0491089638403286, 1.1781009663199202, 1.2618671959823535, 1.3017311818390587, 1.3389174799921608, 0.741112260151729, 1.031930877258848, 0.7063327516796224, 0.6256405494531642, 1.2093127871882565, 0.7675800970955354, 1.4160513606714398, 1.5524328496605986, 1.0193013775975261]\n",
            "The Mean Square Error: 0.0000\n",
            "Runtime: 1.6226356029510498 seconds\n"
          ]
        }
      ]
    },
    {
      "cell_type": "code",
      "source": [],
      "metadata": {
        "id": "fEa7L90AXuXt"
      },
      "execution_count": null,
      "outputs": []
    }
  ]
}