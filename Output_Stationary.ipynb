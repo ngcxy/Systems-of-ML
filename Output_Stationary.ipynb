{
  "nbformat": 4,
  "nbformat_minor": 0,
  "metadata": {
    "colab": {
      "provenance": [],
      "authorship_tag": "ABX9TyPnHqwWGggFNGiUzAd2J5co",
      "include_colab_link": true
    },
    "kernelspec": {
      "name": "python3",
      "display_name": "Python 3"
    },
    "language_info": {
      "name": "python"
    }
  },
  "cells": [
    {
      "cell_type": "markdown",
      "metadata": {
        "id": "view-in-github",
        "colab_type": "text"
      },
      "source": [
        "<a href=\"https://colab.research.google.com/github/ngcxy/Systems-of-ML/blob/main/Output_Stationary.ipynb\" target=\"_parent\"><img src=\"https://colab.research.google.com/assets/colab-badge.svg\" alt=\"Open In Colab\"/></a>"
      ]
    },
    {
      "cell_type": "markdown",
      "source": [
        "## Global Variable Settings\n",
        "\n",
        "We first initialize multiprocessing tools, generate random activations and weights, and print these values."
      ],
      "metadata": {
        "id": "zobEqzxw8uIm"
      }
    },
    {
      "cell_type": "code",
      "source": [
        "from multiprocessing import Process, Queue, Array\n",
        "import random\n",
        "\n",
        "num_activations = 8\n",
        "num_weights = 3\n",
        "\n",
        "# Create activations randomly.\n",
        "activations = [random.uniform(0, 1) for _ in range(num_activations)]\n",
        "# activations = [1,2,3,4,5,6,7,8]\n",
        "\n",
        "# The fixed weights. Each PE will be hardcoded to work with a single entry in this list.\n",
        "weights = [random.uniform(0, 1) for _ in range(num_weights)]\n",
        "# weights = [1,2,3]\n",
        "print(activations)\n",
        "print(weights)"
      ],
      "metadata": {
        "colab": {
          "base_uri": "https://localhost:8080/"
        },
        "id": "BnuD2r3W80WW",
        "outputId": "9dee24a2-cf77-41b3-fb30-eb276e53334e"
      },
      "execution_count": 58,
      "outputs": [
        {
          "output_type": "stream",
          "name": "stdout",
          "text": [
            "[0.974968136476043, 0.9486859662853662, 0.8142852843671379, 0.4049645785260493, 0.4532858078378864, 0.833822314634862, 0.38672965890459365, 0.7937409781279717]\n",
            "[0.7848930569125159, 0.9106794198455073, 0.5856651540532452]\n"
          ]
        }
      ]
    },
    {
      "cell_type": "markdown",
      "source": [
        "## Convolution Results\n",
        "\n",
        "1-D convolution results for validation. The outputs must exactly match these values."
      ],
      "metadata": {
        "id": "vRvGCtw786Dy"
      }
    },
    {
      "cell_type": "code",
      "source": [
        "ground_truth = [0 for _ in range(num_activations-num_weights+1)]\n",
        "for i in range(num_activations-num_weights+1):\n",
        "  for k in range(num_weights):\n",
        "      ground_truth[i] += weights[k]*activations[i+k]\n",
        "print(ground_truth)"
      ],
      "metadata": {
        "colab": {
          "base_uri": "https://localhost:8080/"
        },
        "id": "8ORgXlMD84Q2",
        "outputId": "f3d7c2c1-4ea7-4516-e50d-52404ce85a98"
      },
      "execution_count": 59,
      "outputs": [
        {
          "output_type": "stream",
          "name": "stdout",
          "text": [
            "[2.1060930229354824, 1.7233435207524903, 1.2733934759534087, 1.2189926168402678, 1.3416197903741698, 1.471514519097605]\n"
          ]
        }
      ]
    },
    {
      "cell_type": "markdown",
      "source": [
        "## Validation Function\n",
        "The `mse_error` function computes the Mean Square Error (MSE) between two sequences."
      ],
      "metadata": {
        "id": "FUjZRqu59gF6"
      }
    },
    {
      "cell_type": "code",
      "source": [
        "def mse_error(ground_truth, output):\n",
        "    error = 0.0\n",
        "    for gt, out in zip(ground_truth, output):\n",
        "        error += (gt-out) ** 2\n",
        "    print(f\"The expected results : {ground_truth}\")\n",
        "    print(f\"The simulated results: {output[:]}\")\n",
        "    print(f\"The Mean Square Error: {error:.4f}\")"
      ],
      "metadata": {
        "id": "m1W0TsUZ8_3O"
      },
      "execution_count": 60,
      "outputs": []
    },
    {
      "cell_type": "markdown",
      "source": [
        "## Output stationary data flow\n",
        "\n",
        "We implement three data flow approaches to achieve the output stationary."
      ],
      "metadata": {
        "id": "6_i2U98o-JoH"
      }
    },
    {
      "cell_type": "markdown",
      "source": [
        "### OS type 1\n",
        "\n",
        "The weights are broadcasted while activations are passed through the PEs sequentially.\n",
        "\n",
        "Notice that the PEs only retrieve weights when the required activations are passed in. Before that, the weights will be stored in the buffer of the queues.\n",
        "\n",
        "For each OS_worker, it gets the activation from the `activate_queue` in the \"left\". If the activation is within its multiplication range, it will get the weight from `weight_queue`, multiply them together, and accumulate this partial sum into the `partial_output_register`. Then, it passes the activation to the next PE through `output_queue`."
      ],
      "metadata": {
        "id": "0TKIrsx298Vu"
      }
    },
    {
      "cell_type": "code",
      "source": [
        "def OS_worker1(id, partial_output_register, activate_queue, weight_queue, output_queue):\n",
        "    ## The PE function for the Output Stationary Scheme 1\n",
        "\n",
        "    while True:\n",
        "        # Get input activation\n",
        "        data = activate_queue.get()\n",
        "\n",
        "        # Check if the activation is a termination signal\n",
        "        if data is None:\n",
        "            output_queue.put(data)\n",
        "            break\n",
        "\n",
        "        activation, time_step = data\n",
        "        # Each PE takes input within certain range of time step\n",
        "        if time_step<id or time_step>id+num_weights-1:\n",
        "            output_queue.put(data)\n",
        "            continue\n",
        "\n",
        "        # Get kernel weights\n",
        "        weight = weight_queue.get()\n",
        "\n",
        "        # Update the RegFile in the PE\n",
        "        partial_output_register[id] += weight*activation\n",
        "\n",
        "        # Pass the input data into the output_queue\n",
        "        output_queue.put(data)\n",
        "\n",
        "    print(f\"Worker ID {id}: is Done!\")"
      ],
      "metadata": {
        "id": "6MFcMgI198AM"
      },
      "execution_count": 61,
      "outputs": []
    },
    {
      "cell_type": "code",
      "source": [
        "num_pes = num_activations - num_weights + 1\n",
        "\n",
        "activate_queues = [Queue() for _ in range(num_pes+1)]\n",
        "weight_queues = [Queue() for _ in range(num_pes)]\n",
        "\n",
        "processes = []\n",
        "\n",
        "# Create a global variable for the PE RegFiles\n",
        "PE_RegFiles = Array('d', [0.0 for _ in range(num_pes)])\n",
        "\n",
        "# Create and start a process for each PE.\n",
        "for i in range(num_pes):\n",
        "    p = Process(target=OS_worker1, args=(\n",
        "        i, PE_RegFiles, activate_queues[i], weight_queues[i], activate_queues[i+1]))\n",
        "    processes.append(p)\n",
        "    p.start()\n",
        "\n",
        "# Broadcasting the weights to all PEs.\n",
        "# The weights will be stored in the queues until the PE fetching valid activations\n",
        "for i in range(num_weights):\n",
        "    for w in weight_queues:\n",
        "        w.put(weights[i])\n",
        "\n",
        "print(\"Done broadasting Weights!\")\n",
        "\n",
        "# TODO: Pass the activation data input the leftmost PE\n",
        "for i, activation in enumerate(activations):\n",
        "    activate_queues[0].put((activation, i))\n",
        "\n",
        "# Pass the termination signal in the end of the input sequence\n",
        "activate_queues[0].put(None)\n",
        "print(\"Done putting None!\")\n",
        "\n",
        "# Make sure to join the PE processes to clean up properly\n",
        "for i, p in enumerate(processes):\n",
        "    p.join()\n",
        "\n",
        "OS_output = PE_RegFiles\n",
        "\n",
        "print(\"All Done!\")\n",
        "mse_error(ground_truth, OS_output)"
      ],
      "metadata": {
        "colab": {
          "base_uri": "https://localhost:8080/"
        },
        "id": "bGI3gyBX9orB",
        "outputId": "778376a1-5ba0-4792-f689-35b809ce05e1"
      },
      "execution_count": 62,
      "outputs": [
        {
          "output_type": "stream",
          "name": "stdout",
          "text": [
            "Worker ID 0: is Done!Worker ID 1: is Done!\n",
            "\n",
            "Worker ID 2: is Done!Worker ID 3: is Done!\n",
            "\n",
            "Worker ID 4: is Done!Worker ID 5: is Done!\n",
            "\n",
            "Done broadasting Weights!\n",
            "Done putting None!\n",
            "All Done!\n",
            "The expected results : [2.1060930229354824, 1.7233435207524903, 1.2733934759534087, 1.2189926168402678, 1.3416197903741698, 1.471514519097605]\n",
            "The simulated results: [2.1060930229354824, 1.7233435207524903, 1.2733934759534087, 1.2189926168402678, 1.3416197903741698, 1.471514519097605]\n",
            "The Mean Square Error: 0.0000\n"
          ]
        }
      ]
    },
    {
      "cell_type": "markdown",
      "source": [
        "### OS type 2\n",
        "\n",
        "The activations are broadcasted while weights are passed through the PEs sequentially.\n",
        "\n",
        "For each OS_worker, it waits for the weights coming from the `weight_queue` in the left. During this time, it just gets the activation, does nothing, and continues. As soon as it receives a weight, it will get the current activation from `activation_queue`, multiply them together, and accumulate this partial sum into the `partial_output_register`. Then, it passes the weight to the next PE through `output_queue`."
      ],
      "metadata": {
        "id": "K4_AzKiCtBDG"
      }
    },
    {
      "cell_type": "code",
      "source": [
        "def OS_worker2(id, partial_output_register, activate_queue, weight_queue, output_queue):\n",
        "    ## The PE function for the Output Stationary Scheme 2\n",
        "\n",
        "    while True:\n",
        "\n",
        "        # Get input activation\n",
        "        activation, time_step = activate_queue.get()\n",
        "\n",
        "        # only process when there's weight com\n",
        "        if time_step  < id:\n",
        "            continue\n",
        "\n",
        "        # Get kernel weight\n",
        "        weight = weight_queue.get()\n",
        "\n",
        "        # Check if the activation is a termination signal\n",
        "        if weight is None:\n",
        "            output_queue.put(weight)\n",
        "            break\n",
        "\n",
        "        # Update the RegFile in the PE\n",
        "        partial_output_register[id] += weight*activation\n",
        "\n",
        "        # Pass the input data into the output_queue\n",
        "        output_queue.put(weight)\n",
        "\n",
        "    print(f\"Worker ID {id}: is Done!\")"
      ],
      "metadata": {
        "id": "u9lANisz_wqA"
      },
      "execution_count": 63,
      "outputs": []
    },
    {
      "cell_type": "code",
      "source": [
        "num_pes = num_activations - num_weights + 1\n",
        "\n",
        "activate_queues = [Queue() for _ in range(num_pes)]\n",
        "weight_queues = [Queue() for _ in range(num_pes+1)]\n",
        "\n",
        "# List of processes: [PE[0]...PE[num_pes-1]]\n",
        "processes = []\n",
        "\n",
        "# Create a global variable for the PE RegFiles\n",
        "PE_RegFiles = Array('d', [0.0 for _ in range(num_pes)])\n",
        "\n",
        "# Create and start a process for each PE.\n",
        "for i in range(num_pes):\n",
        "    p = Process(target=OS_worker2, args=(\n",
        "        i, PE_RegFiles, activate_queues[i], weight_queues[i], weight_queues[i+1]))\n",
        "    processes.append(p)\n",
        "    p.start()\n",
        "\n",
        "# Broadcasting the activations to all PEs.\n",
        "for i,activation in enumerate(activations):\n",
        "    for a in activate_queues:\n",
        "        a.put((activation,i))\n",
        "# Broadcasting one more redundant signal for the last PE to terminate\n",
        "for a in activate_queues:\n",
        "    a.put((0,num_pes))\n",
        "\n",
        "\n",
        "print(\"Done broadasting Activations!\")\n",
        "\n",
        "# TODO: Pass the activation data input the leftmost PE\n",
        "for weight in weights:\n",
        "    weight_queues[0].put(weight)\n",
        "\n",
        "# Pass the termination signal in the end of the input sequence\n",
        "weight_queues[0].put(None)\n",
        "print(\"Done passing None!\")\n",
        "\n",
        "# Make sure to join the PE processes to clean up properly\n",
        "for i, p in enumerate(processes):\n",
        "    p.join()\n",
        "\n",
        "OS_output = PE_RegFiles\n",
        "\n",
        "print(\"All Done!\")\n",
        "mse_error(ground_truth, OS_output)"
      ],
      "metadata": {
        "colab": {
          "base_uri": "https://localhost:8080/"
        },
        "id": "-4wFMLvshj6g",
        "outputId": "eebf9892-95c3-45a4-805b-a0815bebc53a"
      },
      "execution_count": 64,
      "outputs": [
        {
          "output_type": "stream",
          "name": "stdout",
          "text": [
            "Worker ID 0: is Done!\n",
            "Worker ID 1: is Done!Worker ID 2: is Done!\n",
            "Worker ID 3: is Done!\n",
            "\n",
            "Worker ID 4: is Done!\n",
            "Worker ID 5: is Done!\n",
            "Done broadasting Activations!\n",
            "Done passing None!\n",
            "All Done!\n",
            "The expected results : [2.1060930229354824, 1.7233435207524903, 1.2733934759534087, 1.2189926168402678, 1.3416197903741698, 1.471514519097605]\n",
            "The simulated results: [2.1060930229354824, 1.7233435207524903, 1.2733934759534087, 1.2189926168402678, 1.3416197903741698, 1.471514519097605]\n",
            "The Mean Square Error: 0.0000\n"
          ]
        }
      ]
    },
    {
      "cell_type": "markdown",
      "source": [
        "### OS type 3\n",
        "\n",
        "The weights are broadcasted while activations are passed through the PEs sequentially.\n",
        "\n",
        "Notice that all of the PEs will not start retrieving the broadcasted weight until a certain `time_step` (when the first activation arrives at the last PE). Further, the IDs of the PEs in this approach are arranged in a reversed order.\n",
        "\n",
        "\n",
        "For each OS_worker, it gets the activation from the `activate_queue` in the \"left\" and keeps passing the activation to the next PE through the `output_queue`. As soon as the last PE receives an activation, it'll start retrieving the broadcasted weight in `weight_queue` and accumulate the multiplication result into the `partial_output_register`."
      ],
      "metadata": {
        "id": "nrlXoKqGuq5b"
      }
    },
    {
      "cell_type": "code",
      "source": [
        "def OS_worker3(id, partial_output_register, activate_queue, weight_queue, output_queue):\n",
        "    ## The PE function for the Output Stationary Scheme 1\n",
        "\n",
        "    while True:\n",
        "        # Get input activation\n",
        "        data = activate_queue.get()\n",
        "\n",
        "        # Check if the activation is a termination signal\n",
        "\n",
        "        activation, time_step = data\n",
        "        # Each PE takes input within certain range of time step\n",
        "        if time_step<id:\n",
        "            output_queue.put(data)\n",
        "            continue\n",
        "\n",
        "        # Get kernel weights\n",
        "        weight = weight_queue.get()\n",
        "\n",
        "        if weight is None:\n",
        "            break;\n",
        "\n",
        "        # Update the RegFile in the PE\n",
        "        partial_output_register[id] += weight*activation\n",
        "\n",
        "        # Pass the input data into the output_queue\n",
        "        output_queue.put(data)\n",
        "\n",
        "    print(f\"Worker ID {id}: is Done!\")"
      ],
      "metadata": {
        "id": "vz5BIRYHMKG3"
      },
      "execution_count": 65,
      "outputs": []
    },
    {
      "cell_type": "code",
      "source": [
        "num_pes = num_activations - num_weights + 1\n",
        "\n",
        "activate_queues = [Queue() for _ in range(num_pes+1)]\n",
        "weight_queues = [Queue() for _ in range(num_pes)]\n",
        "\n",
        "processes = []\n",
        "\n",
        "# Create a global variable for the PE RegFiles\n",
        "PE_RegFiles = Array('d', [0.0 for _ in range(num_pes)])\n",
        "\n",
        "# Create and start a process for each PE.\n",
        "for i in range(num_pes):\n",
        "    p = Process(target=OS_worker3, args=(\n",
        "        num_pes-1-i, PE_RegFiles, activate_queues[i], weight_queues[i], activate_queues[i+1]))\n",
        "    processes.append(p)\n",
        "    p.start()\n",
        "\n",
        "# Broadcasting the weights to all PEs.\n",
        "# The weights will be stored in the queues until the PE fetching valid activations\n",
        "for i in range(num_weights):\n",
        "    for w in weight_queues:\n",
        "        w.put(weights[i])\n",
        "\n",
        "print(\"Done broadasting Weights!\")\n",
        "\n",
        "# Pass the activation data input the leftmost PE\n",
        "for i, activation in enumerate(activations):\n",
        "    activate_queues[0].put((activation, i))\n",
        "# Pass one more redundant activations for the PEs to receive terminate signal\n",
        "activate_queues[0].put((0, num_pes))\n",
        "\n",
        "# Pass the termination signal in the end of the input sequence\n",
        "for i in range(num_weights):\n",
        "    for w in weight_queues:\n",
        "        w.put(None)\n",
        "print(\"Done broadcasting None!\")\n",
        "\n",
        "# Make sure to join the PE processes to clean up properly\n",
        "for i, p in enumerate(processes):\n",
        "    p.join()\n",
        "\n",
        "OS_output = PE_RegFiles\n",
        "\n",
        "print(\"All Done!\")\n",
        "mse_error(ground_truth, OS_output)"
      ],
      "metadata": {
        "colab": {
          "base_uri": "https://localhost:8080/"
        },
        "id": "r9HIVxREUYyy",
        "outputId": "76b10d6e-e952-4b8f-8e21-dcb98706be51"
      },
      "execution_count": 66,
      "outputs": [
        {
          "output_type": "stream",
          "name": "stdout",
          "text": [
            "Worker ID 5: is Done!Worker ID 4: is Done!\n",
            "\n",
            "Worker ID 3: is Done!\n",
            "Worker ID 2: is Done!\n",
            "Worker ID 1: is Done!\n",
            "Worker ID 0: is Done!\n",
            "Done broadasting Weights!\n",
            "Done broadcasting None!\n",
            "All Done!\n",
            "The expected results : [2.1060930229354824, 1.7233435207524903, 1.2733934759534087, 1.2189926168402678, 1.3416197903741698, 1.471514519097605]\n",
            "The simulated results: [2.1060930229354824, 1.7233435207524903, 1.2733934759534087, 1.2189926168402678, 1.3416197903741698, 1.471514519097605]\n",
            "The Mean Square Error: 0.0000\n"
          ]
        }
      ]
    },
    {
      "cell_type": "code",
      "source": [],
      "metadata": {
        "id": "fEa7L90AXuXt"
      },
      "execution_count": null,
      "outputs": []
    }
  ]
}